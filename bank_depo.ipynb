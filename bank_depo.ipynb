{
 "cells": [
  {
   "cell_type": "code",
   "execution_count": 75,
   "metadata": {},
   "outputs": [
    {
     "name": "stdout",
     "output_type": "stream",
     "text": [
      "Populating the interactive namespace from numpy and matplotlib\n"
     ]
    }
   ],
   "source": [
    "import pandas as pd\n",
    "%pylab inline\n",
    "import seaborn as sns\n",
    "from pandas_profiling import ProfileReport\n",
    "from sklearn.model_selection import train_test_split, GridSearchCV, cross_val_score\n",
    "from sklearn.preprocessing import StandardScaler,MinMaxScaler\n",
    "%matplotlib inline\n",
    "from scipy.stats import chi2_contingency\n",
    "from sklearn.preprocessing import OneHotEncoder\n",
    "from sklearn.compose import make_column_transformer, ColumnTransformer\n",
    "from sklearn.pipeline import make_pipeline\n",
    "from sklearn.pipeline import Pipeline\n",
    "from sklearn.linear_model import LogisticRegression"
   ]
  },
  {
   "cell_type": "code",
   "execution_count": 2,
   "metadata": {},
   "outputs": [
    {
     "data": {
      "text/plain": [
       "(4521, 17)"
      ]
     },
     "execution_count": 2,
     "metadata": {},
     "output_type": "execute_result"
    }
   ],
   "source": [
    "bank= pd.read_csv('bank1.csv',sep=',')\n",
    "bank.shape"
   ]
  },
  {
   "cell_type": "code",
   "execution_count": 3,
   "metadata": {},
   "outputs": [
    {
     "data": {
      "text/html": [
       "<div>\n",
       "<style scoped>\n",
       "    .dataframe tbody tr th:only-of-type {\n",
       "        vertical-align: middle;\n",
       "    }\n",
       "\n",
       "    .dataframe tbody tr th {\n",
       "        vertical-align: top;\n",
       "    }\n",
       "\n",
       "    .dataframe thead th {\n",
       "        text-align: right;\n",
       "    }\n",
       "</style>\n",
       "<table border=\"1\" class=\"dataframe\">\n",
       "  <thead>\n",
       "    <tr style=\"text-align: right;\">\n",
       "      <th></th>\n",
       "      <th>age</th>\n",
       "      <th>job</th>\n",
       "      <th>marital</th>\n",
       "      <th>education</th>\n",
       "      <th>default</th>\n",
       "      <th>balance</th>\n",
       "      <th>housing</th>\n",
       "      <th>loan</th>\n",
       "      <th>contact</th>\n",
       "      <th>day</th>\n",
       "      <th>month</th>\n",
       "      <th>duration</th>\n",
       "      <th>campaign</th>\n",
       "      <th>pdays</th>\n",
       "      <th>previous</th>\n",
       "      <th>poutcome</th>\n",
       "      <th>y</th>\n",
       "    </tr>\n",
       "  </thead>\n",
       "  <tbody>\n",
       "    <tr>\n",
       "      <th>0</th>\n",
       "      <td>30</td>\n",
       "      <td>unemployed</td>\n",
       "      <td>married</td>\n",
       "      <td>primary</td>\n",
       "      <td>no</td>\n",
       "      <td>1787</td>\n",
       "      <td>no</td>\n",
       "      <td>no</td>\n",
       "      <td>cellular</td>\n",
       "      <td>19</td>\n",
       "      <td>oct</td>\n",
       "      <td>79</td>\n",
       "      <td>1</td>\n",
       "      <td>-1</td>\n",
       "      <td>0</td>\n",
       "      <td>unknown</td>\n",
       "      <td>no</td>\n",
       "    </tr>\n",
       "    <tr>\n",
       "      <th>1</th>\n",
       "      <td>33</td>\n",
       "      <td>services</td>\n",
       "      <td>married</td>\n",
       "      <td>secondary</td>\n",
       "      <td>no</td>\n",
       "      <td>4789</td>\n",
       "      <td>yes</td>\n",
       "      <td>yes</td>\n",
       "      <td>cellular</td>\n",
       "      <td>11</td>\n",
       "      <td>may</td>\n",
       "      <td>220</td>\n",
       "      <td>1</td>\n",
       "      <td>339</td>\n",
       "      <td>4</td>\n",
       "      <td>failure</td>\n",
       "      <td>no</td>\n",
       "    </tr>\n",
       "    <tr>\n",
       "      <th>2</th>\n",
       "      <td>35</td>\n",
       "      <td>management</td>\n",
       "      <td>single</td>\n",
       "      <td>tertiary</td>\n",
       "      <td>no</td>\n",
       "      <td>1350</td>\n",
       "      <td>yes</td>\n",
       "      <td>no</td>\n",
       "      <td>cellular</td>\n",
       "      <td>16</td>\n",
       "      <td>apr</td>\n",
       "      <td>185</td>\n",
       "      <td>1</td>\n",
       "      <td>330</td>\n",
       "      <td>1</td>\n",
       "      <td>failure</td>\n",
       "      <td>no</td>\n",
       "    </tr>\n",
       "    <tr>\n",
       "      <th>3</th>\n",
       "      <td>30</td>\n",
       "      <td>management</td>\n",
       "      <td>married</td>\n",
       "      <td>tertiary</td>\n",
       "      <td>no</td>\n",
       "      <td>1476</td>\n",
       "      <td>yes</td>\n",
       "      <td>yes</td>\n",
       "      <td>unknown</td>\n",
       "      <td>3</td>\n",
       "      <td>jun</td>\n",
       "      <td>199</td>\n",
       "      <td>4</td>\n",
       "      <td>-1</td>\n",
       "      <td>0</td>\n",
       "      <td>unknown</td>\n",
       "      <td>no</td>\n",
       "    </tr>\n",
       "    <tr>\n",
       "      <th>4</th>\n",
       "      <td>59</td>\n",
       "      <td>blue-collar</td>\n",
       "      <td>married</td>\n",
       "      <td>secondary</td>\n",
       "      <td>no</td>\n",
       "      <td>0</td>\n",
       "      <td>yes</td>\n",
       "      <td>no</td>\n",
       "      <td>unknown</td>\n",
       "      <td>5</td>\n",
       "      <td>may</td>\n",
       "      <td>226</td>\n",
       "      <td>1</td>\n",
       "      <td>-1</td>\n",
       "      <td>0</td>\n",
       "      <td>unknown</td>\n",
       "      <td>no</td>\n",
       "    </tr>\n",
       "  </tbody>\n",
       "</table>\n",
       "</div>"
      ],
      "text/plain": [
       "   age          job  marital  education default  balance housing loan  \\\n",
       "0   30   unemployed  married    primary      no     1787      no   no   \n",
       "1   33     services  married  secondary      no     4789     yes  yes   \n",
       "2   35   management   single   tertiary      no     1350     yes   no   \n",
       "3   30   management  married   tertiary      no     1476     yes  yes   \n",
       "4   59  blue-collar  married  secondary      no        0     yes   no   \n",
       "\n",
       "    contact  day month  duration  campaign  pdays  previous poutcome   y  \n",
       "0  cellular   19   oct        79         1     -1         0  unknown  no  \n",
       "1  cellular   11   may       220         1    339         4  failure  no  \n",
       "2  cellular   16   apr       185         1    330         1  failure  no  \n",
       "3   unknown    3   jun       199         4     -1         0  unknown  no  \n",
       "4   unknown    5   may       226         1     -1         0  unknown  no  "
      ]
     },
     "execution_count": 3,
     "metadata": {},
     "output_type": "execute_result"
    }
   ],
   "source": [
    "bank.head()"
   ]
  },
  {
   "cell_type": "markdown",
   "metadata": {},
   "source": [
    "   # DESCRIPTION\n",
    "   \n",
    "   2-\"blue-collar\",\"self-employed\",\"retired\",\"technician\",\"services\")<br> \n",
    "   3 - marital : marital status (categorical: \"married\",\"divorced\",\"single\"; note: \"divorced\" means divorced or widowed)<br>\n",
    "   4 - education (categorical: \"unknown\",\"secondary\",\"primary\",\"tertiary\")<br>\n",
    "   5 - default: has credit in default? (binary: \"yes\",\"no\")<br>\n",
    "   6 - balance: average yearly balance, in euros (numeric) <br>\n",
    "   7 - housing: has housing loan? (binary: \"yes\",\"no\")<br>\n",
    "   8 - loan: has personal loan? (binary: \"yes\",\"no\")<br>\n",
    "   # related with the last contact of the current campaign:\n",
    "   9 - contact: contact communication type (categorical: \"unknown\",\"telephone\",\"cellular\")<br> \n",
    "  10 - day: last contact day of the month (numeric)<br>\n",
    "  11 - month: last contact month of year (categorical: \"jan\", \"feb\", \"mar\", ..., \"nov\", \"dec\")<br>\n",
    "  12 - duration: last contact duration, in seconds (numeric)<br>\n",
    "   # other attributes:\n",
    "  13 - campaign: number of contacts performed during this campaign and for this client (numeric, includes last contact)<br>\n",
    "  14 - pdays: number of days that passed by after the client was last contacted from a previous campaign (numeric, -1 means client was not previously contacted)<br>\n",
    "  15 - previous: number of contacts performed before this campaign and for this client (numeric)<br>\n",
    "  16 - poutcome: outcome of the previous marketing campaign (categorical: \"unknown\",\"other\",\"failure\",\"success\")<br>\n",
    "\n",
    "  Output variable (desired target):\n",
    "  17 - y - has the client subscribed a term deposit? (binary: \"yes\",\"no\")\n",
    "\n",
    "8. Missing Attribute Values: None"
   ]
  },
  {
   "cell_type": "code",
   "execution_count": 4,
   "metadata": {},
   "outputs": [],
   "source": [
    "def col_visualizer(x):\n",
    "    \"\"\"This function takes a variable a return 2 viz plots\n",
    "    first kde distribution plot and second a histogram\"\"\"\n",
    "    \n",
    "    plt.figure(figsize=(9,4))\n",
    "    plt.subplot(1,3,1)\n",
    "    plt.hist(x, data=bank,alpha=0.8, edgecolor='black')\n",
    "    \n",
    "    plt.subplot(1,3,2)\n",
    "    sns.distplot(bank[x])\n",
    "    plt.tight_layout()\n",
    "    \n",
    "    plt.subplot(1,3,3)\n",
    "    plt.boxplot(x, data=bank)\n",
    "    "
   ]
  },
  {
   "cell_type": "code",
   "execution_count": 5,
   "metadata": {},
   "outputs": [
    {
     "data": {
      "image/png": "[encoded data removed]",
      "text/plain": [
       "<Figure size 648x288 with 3 Axes>"
      ]
     },
     "metadata": {
      "needs_background": "light"
     },
     "output_type": "display_data"
    }
   ],
   "source": [
    "col_visualizer('balance')"
   ]
  },
  {
   "cell_type": "markdown",
   "metadata": {},
   "source": [
    "I am a bit intrigued right skewed distribution of the age variable. We will see what we can do with that."
   ]
  },
  {
   "cell_type": "code",
   "execution_count": 6,
   "metadata": {},
   "outputs": [
    {
     "data": {
      "text/plain": [
       "age          0\n",
       "job          0\n",
       "marital      0\n",
       "education    0\n",
       "default      0\n",
       "balance      0\n",
       "housing      0\n",
       "loan         0\n",
       "contact      0\n",
       "day          0\n",
       "month        0\n",
       "duration     0\n",
       "campaign     0\n",
       "pdays        0\n",
       "previous     0\n",
       "poutcome     0\n",
       "y            0\n",
       "dtype: int64"
      ]
     },
     "execution_count": 6,
     "metadata": {},
     "output_type": "execute_result"
    }
   ],
   "source": [
    "# checking the missing values\n",
    "bank.isna().sum()"
   ]
  },
  {
   "cell_type": "code",
   "execution_count": 7,
   "metadata": {},
   "outputs": [
    {
     "name": "stdout",
     "output_type": "stream",
     "text": [
      "job has 12 : unique in there:\n",
      "\n",
      "management       969\n",
      "blue-collar      946\n",
      "technician       768\n",
      "admin.           478\n",
      "services         417\n",
      "retired          230\n",
      "self-employed    183\n",
      "entrepreneur     168\n",
      "unemployed       128\n",
      "housemaid        112\n",
      "student           84\n",
      "unknown           38\n",
      "Name: job, dtype: int64\n",
      "\n",
      "marital has 3 : unique in there:\n",
      "\n",
      "married     2797\n",
      "single      1196\n",
      "divorced     528\n",
      "Name: marital, dtype: int64\n",
      "\n",
      "education has 4 : unique in there:\n",
      "\n",
      "secondary    2306\n",
      "tertiary     1350\n",
      "primary       678\n",
      "unknown       187\n",
      "Name: education, dtype: int64\n",
      "\n",
      "default has 2 : unique in there:\n",
      "\n",
      "no     4445\n",
      "yes      76\n",
      "Name: default, dtype: int64\n",
      "\n",
      "housing has 2 : unique in there:\n",
      "\n",
      "yes    2559\n",
      "no     1962\n",
      "Name: housing, dtype: int64\n",
      "\n",
      "loan has 2 : unique in there:\n",
      "\n",
      "no     3830\n",
      "yes     691\n",
      "Name: loan, dtype: int64\n",
      "\n",
      "contact has 3 : unique in there:\n",
      "\n",
      "cellular     2896\n",
      "unknown      1324\n",
      "telephone     301\n",
      "Name: contact, dtype: int64\n",
      "\n",
      "month has 12 : unique in there:\n",
      "\n",
      "may    1398\n",
      "jul     706\n",
      "aug     633\n",
      "jun     531\n",
      "nov     389\n",
      "apr     293\n",
      "feb     222\n",
      "jan     148\n",
      "oct      80\n",
      "sep      52\n",
      "mar      49\n",
      "dec      20\n",
      "Name: month, dtype: int64\n",
      "\n",
      "poutcome has 4 : unique in there:\n",
      "\n",
      "unknown    3705\n",
      "failure     490\n",
      "other       197\n",
      "success     129\n",
      "Name: poutcome, dtype: int64\n",
      "\n",
      "y has 2 : unique in there:\n",
      "\n",
      "no     4000\n",
      "yes     521\n",
      "Name: y, dtype: int64\n",
      "\n"
     ]
    }
   ],
   "source": [
    "for col in bank:\n",
    "    if bank[col].dtypes=='object':\n",
    "        print(col,'has',len(bank[col].unique()),': unique in there:\\n')\n",
    "        print (bank[col].value_counts())\n",
    "        print('')"
   ]
  },
  {
   "cell_type": "markdown",
   "metadata": {},
   "source": [
    "Here we have a big problem, the target variable is greatly disproportionated. Any model created here that would have **y** as a target would be a **bias** model."
   ]
  },
  {
   "cell_type": "code",
   "execution_count": 8,
   "metadata": {},
   "outputs": [
    {
     "data": {
      "text/plain": [
       "y    contact  \n",
       "no   cellular     2480\n",
       "     telephone     257\n",
       "     unknown      1263\n",
       "yes  cellular      416\n",
       "     telephone      44\n",
       "     unknown        61\n",
       "Name: contact, dtype: int64"
      ]
     },
     "execution_count": 8,
     "metadata": {},
     "output_type": "execute_result"
    }
   ],
   "source": [
    "bank.groupby(['y', 'contact'])['contact'].count()"
   ]
  },
  {
   "cell_type": "markdown",
   "metadata": {},
   "source": [
    "lets see if there is a relation between contact and the fact that people suscribe to the deposit policy as I am intrigued by this variable. The reason why I am doing this in here. It is just because I believe that we do not have enough observations for all these features. With feature engineering coming after I might a problem. I am trying to eliminate fetaures here; there are "
   ]
  },
  {
   "cell_type": "code",
   "execution_count": 9,
   "metadata": {},
   "outputs": [],
   "source": [
    "def contingency_test(cont):\n",
    "    stand_val=0.05\n",
    "    \"\"\"Takes a Contingency table\"\"\"\n",
    "    chi, p, expected,dof= chi2_contingency(cont)\n",
    "    print('chi2 stats:',chi)\n",
    "    print ('')\n",
    "    print('P-value:',p)\n",
    "    print ('')\n",
    "    print('Expected:',expected)\n",
    "    if p< stand_val:\n",
    "        print('\\nTHE VARIABLES ARE NOT INDEPENDENT')\n",
    "    else:\n",
    "        print ('There is nothing here')\n",
    "    "
   ]
  },
  {
   "cell_type": "code",
   "execution_count": 10,
   "metadata": {},
   "outputs": [],
   "source": [
    "cont=pd.crosstab(bank['y'],bank['contact'],)"
   ]
  },
  {
   "cell_type": "code",
   "execution_count": 11,
   "metadata": {},
   "outputs": [
    {
     "name": "stdout",
     "output_type": "stream",
     "text": [
      "chi2 stats: 87.86985650165812\n",
      "\n",
      "P-value: 8.30430129641147e-20\n",
      "\n",
      "Expected: 2\n",
      "\n",
      "THE VARIABLES ARE NOT INDEPENDENT\n"
     ]
    }
   ],
   "source": [
    "contingency_test(cont)"
   ]
  },
  {
   "cell_type": "code",
   "execution_count": 12,
   "metadata": {},
   "outputs": [],
   "source": [
    "X,y=bank.drop('y',1),bank['y']"
   ]
  },
  {
   "cell_type": "code",
   "execution_count": 13,
   "metadata": {},
   "outputs": [],
   "source": [
    "plt.style.use('bmh')"
   ]
  },
  {
   "cell_type": "code",
   "execution_count": 14,
   "metadata": {},
   "outputs": [],
   "source": [
    "def histo_viz(X):\n",
    "    \"\"\"This function takes a discrete variable\"\"\"\n",
    "    if X.dtypes=='object':\n",
    "        print ('variable must be discrete ...')\n",
    "    else:\n",
    "        plt.figure(figsize=(9,6))\n",
    "        plt.hist(X[y=='no'], alpha=0.5, color='blue',edgecolor='k', label='No')\n",
    "        plt.hist(X[y=='yes'], alpha=0.5, color='green',edgecolor='k',label='Yes')\n",
    "        plt.title('{variable} by target Y Distribution'.format(variable=X.name))\n",
    "        plt.xlabel('Frequency')\n",
    "        plt.legend(loc=0)"
   ]
  },
  {
   "cell_type": "code",
   "execution_count": 15,
   "metadata": {},
   "outputs": [
    {
     "data": {
      "image/png": "[encoded data removed]",
      "text/plain": [
       "<Figure size 648x432 with 1 Axes>"
      ]
     },
     "metadata": {
      "needs_background": "light"
     },
     "output_type": "display_data"
    }
   ],
   "source": [
    "histo_viz(bank['balance'])"
   ]
  },
  {
   "cell_type": "code",
   "execution_count": 16,
   "metadata": {},
   "outputs": [
    {
     "data": {
      "text/plain": [
       "contact    y  \n",
       "cellular   no     2480\n",
       "           yes     416\n",
       "telephone  no      257\n",
       "           yes      44\n",
       "unknown    no     1263\n",
       "           yes      61\n",
       "Name: contact, dtype: int64"
      ]
     },
     "execution_count": 16,
     "metadata": {},
     "output_type": "execute_result"
    }
   ],
   "source": [
    "bank.groupby(['contact','y' ])['contact'].count()"
   ]
  },
  {
   "cell_type": "code",
   "execution_count": 17,
   "metadata": {},
   "outputs": [],
   "source": [
    "def catplot_viz(var):\n",
    "    \n",
    "    pd.crosstab(var, bank['y']).plot(kind='bar', figsize=(11,6));"
   ]
  },
  {
   "cell_type": "code",
   "execution_count": 18,
   "metadata": {},
   "outputs": [
    {
     "data": {
      "image/png": "[encoded data removed]",
      "text/plain": [
       "<Figure size 792x432 with 1 Axes>"
      ]
     },
     "metadata": {
      "needs_background": "light"
     },
     "output_type": "display_data"
    }
   ],
   "source": [
    "catplot_viz(bank['education'])"
   ]
  },
  {
   "cell_type": "markdown",
   "metadata": {},
   "source": [
    "I will drop the **day**  and possibily the **month** column as this is not a data analysis exercise althout few analysis plots will be produced and time series will not used in there."
   ]
  },
  {
   "cell_type": "code",
   "execution_count": 19,
   "metadata": {},
   "outputs": [
    {
     "data": {
      "image/png": "[encoded data removed]",
      "text/plain": [
       "<Figure size 792x432 with 1 Axes>"
      ]
     },
     "metadata": {
      "needs_background": "light"
     },
     "output_type": "display_data"
    }
   ],
   "source": [
    "catplot_viz(bank['month'])"
   ]
  },
  {
   "cell_type": "code",
   "execution_count": 20,
   "metadata": {},
   "outputs": [
    {
     "data": {
      "text/plain": [
       "no     0.88476\n",
       "yes    0.11524\n",
       "Name: y, dtype: float64"
      ]
     },
     "execution_count": 20,
     "metadata": {},
     "output_type": "execute_result"
    }
   ],
   "source": [
    "bank['y'].value_counts(normalize=True)"
   ]
  },
  {
   "cell_type": "markdown",
   "metadata": {},
   "source": [
    "Although nearly 90% of the y variable are just noes. What the data tells that december is the worst month for the deposit. That could be understandable given the nature of Decembre. However, November is not a bad month but Octobre is. Month is not likely to be a very factor (given the data **poorly distribited**)as we are already no trend towards the end of the year.<br>\n",
    "Let's suppose that January is where people start suscribbing to the deposit the term, which is an average month according to the data. Feb looks better than Jan, however is very poor. let's test the hypothesis that those 2 variables are **independent**(there is relation (Null Hypothesis))"
   ]
  },
  {
   "cell_type": "code",
   "execution_count": 21,
   "metadata": {},
   "outputs": [],
   "source": [
    "bank.drop('day',axis=1, inplace=True)"
   ]
  },
  {
   "cell_type": "code",
   "execution_count": 22,
   "metadata": {},
   "outputs": [
    {
     "name": "stdout",
     "output_type": "stream",
     "text": [
      "chi2 stats: 250.50006340911358\n",
      "\n",
      "P-value: 2.195354833570811e-47\n",
      "\n",
      "Expected: 11\n",
      "\n",
      "THE VARIABLES ARE NOT INDEPENDENT\n"
     ]
    }
   ],
   "source": [
    "#Now drop test the month\n",
    "cont1=pd.crosstab(bank['y'], bank['month'])\n",
    "contingency_test(cont1)"
   ]
  },
  {
   "cell_type": "markdown",
   "metadata": {},
   "source": [
    "Contrarily to what the data show with very significant p_value. The 2 variables (**y** & **month** )are not independent. "
   ]
  },
  {
   "cell_type": "code",
   "execution_count": 23,
   "metadata": {},
   "outputs": [],
   "source": [
    "# let's explore the pdays variable"
   ]
  },
  {
   "cell_type": "code",
   "execution_count": 24,
   "metadata": {},
   "outputs": [
    {
     "data": {
      "image/png": "[encoded data removed]",
      "text/plain": [
       "<Figure size 576x360 with 1 Axes>"
      ]
     },
     "metadata": {
      "needs_background": "light"
     },
     "output_type": "display_data"
    }
   ],
   "source": [
    "plt.figure(figsize=(8,5))\n",
    "plt.hist(bank['pdays']);\n",
    "plt.xticks(range(0,800,100));"
   ]
  },
  {
   "cell_type": "code",
   "execution_count": 25,
   "metadata": {},
   "outputs": [
    {
     "data": {
      "text/plain": [
       "pdays\n",
       "-1      3705\n",
       " 182      23\n",
       " 183      20\n",
       " 363      12\n",
       " 92       12\n",
       "Name: pdays, dtype: int64"
      ]
     },
     "execution_count": 25,
     "metadata": {},
     "output_type": "execute_result"
    }
   ],
   "source": [
    "bank.groupby('pdays')['pdays'].count().sort_values(ascending=False)[:5]"
   ]
  },
  {
   "cell_type": "markdown",
   "metadata": {},
   "source": [
    "Considering the nature of the dataset and the variable it is d1fficult to take the -1 value as a continuous value in the dataset. It is probably representing something. I will there transform due to the quantitity of it this variable to have a good model"
   ]
  },
  {
   "cell_type": "code",
   "execution_count": 26,
   "metadata": {},
   "outputs": [],
   "source": [
    "bank['pdays']=bank['pdays']+1"
   ]
  },
  {
   "cell_type": "code",
   "execution_count": 27,
   "metadata": {},
   "outputs": [
    {
     "data": {
      "text/plain": [
       "pdays\n",
       "0      3705\n",
       "183      23\n",
       "184      20\n",
       "364      12\n",
       "93       12\n",
       "Name: pdays, dtype: int64"
      ]
     },
     "execution_count": 27,
     "metadata": {},
     "output_type": "execute_result"
    }
   ],
   "source": [
    "bank.groupby('pdays')['pdays'].count().sort_values(ascending=False)[:5]"
   ]
  },
  {
   "cell_type": "code",
   "execution_count": 28,
   "metadata": {},
   "outputs": [
    {
     "data": {
      "text/plain": [
       "count    4521.000000\n",
       "mean       41.170095\n",
       "std        10.576211\n",
       "min        19.000000\n",
       "25%        33.000000\n",
       "50%        39.000000\n",
       "75%        49.000000\n",
       "max        87.000000\n",
       "Name: age, dtype: float64"
      ]
     },
     "execution_count": 28,
     "metadata": {},
     "output_type": "execute_result"
    }
   ],
   "source": [
    "# let's do a quick age exploration\n",
    "bank['age'].describe()"
   ]
  },
  {
   "cell_type": "code",
   "execution_count": 29,
   "metadata": {},
   "outputs": [
    {
     "data": {
      "image/png": "[encoded data removed]",
      "text/plain": [
       "<Figure size 648x288 with 3 Axes>"
      ]
     },
     "metadata": {
      "needs_background": "light"
     },
     "output_type": "display_data"
    }
   ],
   "source": [
    "col_visualizer('age')"
   ]
  },
  {
   "cell_type": "code",
   "execution_count": 30,
   "metadata": {},
   "outputs": [
    {
     "data": {
      "image/png": "[encoded data removed]",
      "text/plain": [
       "<Figure size 648x432 with 1 Axes>"
      ]
     },
     "metadata": {
      "needs_background": "light"
     },
     "output_type": "display_data"
    }
   ],
   "source": [
    "histo_viz(bank['age'])"
   ]
  },
  {
   "cell_type": "code",
   "execution_count": 31,
   "metadata": {},
   "outputs": [],
   "source": [
    "#sns.catplot(x=\"education\", y=\"balance\", hue=\"y\", kind=\"swarm\", data=bank);"
   ]
  },
  {
   "cell_type": "code",
   "execution_count": 32,
   "metadata": {},
   "outputs": [],
   "source": [
    "cate_col=[col for col in bank.columns if bank[col].dtypes=='object']\n",
    "X,y= bank.drop('y', 1),bank['y']\n"
   ]
  },
  {
   "cell_type": "code",
   "execution_count": 33,
   "metadata": {},
   "outputs": [],
   "source": [
    "# transform y\n",
    "y=np.where(bank['y']=='yes', 1, 0)"
   ]
  },
  {
   "cell_type": "code",
   "execution_count": 80,
   "metadata": {},
   "outputs": [
    {
     "data": {
      "text/plain": [
       "array([[ 0.        ,  0.        ,  0.        , ..., -0.57682947,\n",
       "        -0.4072183 , -0.32041282],\n",
       "       [ 0.        ,  0.        ,  0.        , ..., -0.57682947,\n",
       "         2.98904408,  2.04173372],\n",
       "       [ 0.        ,  0.        ,  0.        , ..., -0.57682947,\n",
       "         2.89914302,  0.27012381],\n",
       "       ...,\n",
       "       [ 0.        ,  0.        ,  0.        , ...,  2.63916021,\n",
       "        -0.4072183 , -0.32041282],\n",
       "       [ 0.        ,  1.        ,  0.        , ...,  0.38796743,\n",
       "         1.71045119,  1.45119709],\n",
       "       [ 0.        ,  0.        ,  1.        , ..., -0.2552305 ,\n",
       "         2.09003345,  3.81334363]])"
      ]
     },
     "execution_count": 80,
     "metadata": {},
     "output_type": "execute_result"
    }
   ],
   "source": [
    "# change change column \n",
    "trans_cols= make_column_transformer((OneHotEncoder(),['job', 'marital', 'education', 'default','housing','loan',\n",
    "                                                      'contact','month','poutcome']),remainder=StandardScaler())\n",
    "\n",
    "                            \n",
    "trans_cols.fit_transform(X)\n"
   ]
  },
  {
   "cell_type": "code",
   "execution_count": 81,
   "metadata": {},
   "outputs": [],
   "source": [
    "# Use the class weight to balance the classes as they are unbalnced\n",
    "\n",
    "logreg=LogisticRegression(class_weight='balanced')"
   ]
  },
  {
   "cell_type": "code",
   "execution_count": 83,
   "metadata": {
    "scrolled": false
   },
   "outputs": [
    {
     "name": "stderr",
     "output_type": "stream",
     "text": [
      "/Users/JB/anaconda3/lib/python3.7/site-packages/sklearn/linear_model/logistic.py:432: FutureWarning: Default solver will be changed to 'lbfgs' in 0.22. Specify a solver to silence this warning.\n",
      "  FutureWarning)\n",
      "/Users/JB/anaconda3/lib/python3.7/site-packages/sklearn/linear_model/logistic.py:432: FutureWarning: Default solver will be changed to 'lbfgs' in 0.22. Specify a solver to silence this warning.\n",
      "  FutureWarning)\n",
      "/Users/JB/anaconda3/lib/python3.7/site-packages/sklearn/linear_model/logistic.py:432: FutureWarning: Default solver will be changed to 'lbfgs' in 0.22. Specify a solver to silence this warning.\n",
      "  FutureWarning)\n",
      "/Users/JB/anaconda3/lib/python3.7/site-packages/sklearn/linear_model/logistic.py:432: FutureWarning: Default solver will be changed to 'lbfgs' in 0.22. Specify a solver to silence this warning.\n",
      "  FutureWarning)\n",
      "/Users/JB/anaconda3/lib/python3.7/site-packages/sklearn/linear_model/logistic.py:432: FutureWarning: Default solver will be changed to 'lbfgs' in 0.22. Specify a solver to silence this warning.\n",
      "  FutureWarning)\n"
     ]
    },
    {
     "data": {
      "text/plain": [
       "0.8374292279861144"
      ]
     },
     "execution_count": 83,
     "metadata": {},
     "output_type": "execute_result"
    }
   ],
   "source": [
    "# Making the pipeline\n",
    "pipe=make_pipeline(trans_cols,logreg)\n",
    "cross_val_score(pipe, X, y, cv=5,scoring='accuracy').mean()"
   ]
  },
  {
   "cell_type": "markdown",
   "metadata": {},
   "source": [
    "Remember this has not been not been standardised yet. I just want to show the importance of standardising the data at this point. There are few things that I am looking to change. Keep,on checking some update are coming soon. Tutorial on Imblearn (library dealing imbalance target) would be also included hopefully. :) . Do not hesitate to contact me by  whether you have some questions."
   ]
  },
  {
   "cell_type": "code",
   "execution_count": null,
   "metadata": {},
   "outputs": [],
   "source": []
  }
 ],
 "metadata": {
  "kernelspec": {
   "display_name": "Python 3",
   "language": "python",
   "name": "python3"
  },
  "language_info": {
   "codemirror_mode": {
    "name": "ipython",
    "version": 3
   },
   "file_extension": ".py",
   "mimetype": "text/x-python",
   "name": "python",
   "nbconvert_exporter": "python",
   "pygments_lexer": "ipython3",
   "version": "3.7.5"
  }
 },
 "nbformat": 4,
 "nbformat_minor": 2
}
